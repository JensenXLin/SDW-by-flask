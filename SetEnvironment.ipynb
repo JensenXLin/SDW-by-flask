{
 "cells": [
  {
   "cell_type": "markdown",
   "metadata": {},
   "source": [
    "## Basic Usage"
   ]
  },
  {
   "cell_type": "code",
   "execution_count": 1,
   "metadata": {},
   "outputs": [],
   "source": [
    "import unittest"
   ]
  },
  {
   "cell_type": "code",
   "execution_count": 2,
   "metadata": {},
   "outputs": [],
   "source": [
    "# Define a class and inherit unnitest.TestCase\n",
    "class TestClass(unittest.TestCase):\n",
    "    # The setUp() method to do some preparatory work, such as establishing a database connection.\n",
    "    # It is automatically invoked by the test framework before the use case is executed.\n",
    "    # 用于连接数据库 在测试用例时候自动调用\n",
    "    def setUp(self):\n",
    "        pass\n",
    "    \n",
    "    # The tearDown() method is used to do some cleanup, such as disconnecting the database.\n",
    "    # It is automatically invoked by the test framework after the use case execution completes, including failure.\n",
    "    # 用于解除数据库连接 在测试用例结束时自动调用\n",
    "    def tearDown(self):\n",
    "        pass\n",
    "    \n",
    "    # test method\n",
    "    def test_some_api(self):\n",
    "        pass\n",
    "    "
   ]
  },
  {
   "cell_type": "markdown",
   "metadata": {},
   "source": [
    "## Example"
   ]
  },
  {
   "cell_type": "code",
   "execution_count": null,
   "metadata": {},
   "outputs": [],
   "source": []
  }
 ],
 "metadata": {
  "kernelspec": {
   "display_name": "sdwproject",
   "language": "python",
   "name": "python3"
  },
  "language_info": {
   "codemirror_mode": {
    "name": "ipython",
    "version": 3
   },
   "file_extension": ".py",
   "mimetype": "text/x-python",
   "name": "python",
   "nbconvert_exporter": "python",
   "pygments_lexer": "ipython3",
   "version": "3.8.19"
  }
 },
 "nbformat": 4,
 "nbformat_minor": 2
}
